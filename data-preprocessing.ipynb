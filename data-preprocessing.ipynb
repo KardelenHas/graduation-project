{
 "cells": [
  {
   "attachments": {},
   "cell_type": "markdown",
   "metadata": {},
   "source": [
    "## ***1.Import Libraries***"
   ]
  },
  {
   "cell_type": "code",
   "execution_count": null,
   "metadata": {},
   "outputs": [],
   "source": [
    "import snscrape.modules.twitter as sntwitter\n",
    "import csv \n",
    "import pandas as pd\n",
    "import xlsxwriter\n",
    "from openpyxl import Workbook\n",
    "from openpyxl import load_workbook\n",
    "import re\n",
    "from string import punctuation \n",
    "import sys\n",
    "from snowballstemmer import TurkishStemmer\n",
    "from vnlp import SentimentAnalyzer\n",
    "from vnlp import StemmerAnalyzer"
   ]
  },
  {
   "attachments": {},
   "cell_type": "markdown",
   "metadata": {},
   "source": [
    "## ***2.Scrape Tweets and Get Stem of Tweets***"
   ]
  },
  {
   "cell_type": "code",
   "execution_count": null,
   "metadata": {},
   "outputs": [],
   "source": [
    "maxTweets = 2000\n",
    "tweets_list = []"
   ]
  },
  {
   "attachments": {},
   "cell_type": "markdown",
   "metadata": {},
   "source": [
    "**Function for remove usertags and photo urls from tweets**"
   ]
  },
  {
   "cell_type": "code",
   "execution_count": null,
   "metadata": {},
   "outputs": [],
   "source": [
    "def user_and_url_remover(tweet):\n",
    "    tweet = ' '.join(tweet.split(\"\\n\"))\n",
    "    words = tweet.split(' ')\n",
    "    final_words = []\n",
    "    \n",
    "    for word in words:\n",
    "        if word != '' and word[0] != \"@\" and \"http\" not in word:\n",
    "            final_words.append(word)\n",
    "        \n",
    "    return ' '.join(final_words)"
   ]
  },
  {
   "attachments": {},
   "cell_type": "markdown",
   "metadata": {},
   "source": [
    "**Scrape tweets and convert to dataframe**"
   ]
  },
  {
   "cell_type": "code",
   "execution_count": null,
   "metadata": {},
   "outputs": [],
   "source": [
    "for i,tweet in enumerate(sntwitter.TwitterSearchScraper('kadına şiddet + since:2000-01-01 until:2022-12-3').get_items()):\n",
    "    if len(tweets_list) >= maxTweets :\n",
    "        break\n",
    "    \n",
    "    print(i)\n",
    "    print(tweet.content)\n",
    "    \n",
    "    clean_tweet = user_and_url_remover(tweet.content)\n",
    "\n",
    "    if clean_tweet not in [tweets[2] for tweets in tweets_list]:\n",
    "        tweets_list.append([str(tweet.date), tweet.id, clean_tweet])\n",
    "\n",
    "tweets = pd.DataFrame(tweets_list, columns=['Datetime', 'Tweet Id', 'Text'], dtype=\"string\")"
   ]
  },
  {
   "attachments": {},
   "cell_type": "markdown",
   "metadata": {},
   "source": [
    "**Get stem of tweets and convert to dataframe** "
   ]
  },
  {
   "cell_type": "code",
   "execution_count": null,
   "metadata": {},
   "outputs": [],
   "source": [
    "stemmer = StemmerAnalyzer()\n",
    "def stemming(tweet):\n",
    "    root_words = \"\"\n",
    "    wordlist = stemmer.predict(tweet)\n",
    "\n",
    "    for sentence in wordlist:\n",
    "        root_words += sentence.split(\"+\")[0] + \" \"\n",
    "    return root_words\n"
   ]
  },
  {
   "cell_type": "code",
   "execution_count": null,
   "metadata": {},
   "outputs": [],
   "source": [
    "stem_tweets = []\n",
    "for index,tweet in enumerate(tweets['Text'].values):\n",
    "    print(index)\n",
    "    stem_tweets.append(stemming(tweet))\n",
    "\n",
    "stem_tweets_df = tweets\n",
    "stem_tweets_df['Text'] = stem_tweets"
   ]
  },
  {
   "attachments": {},
   "cell_type": "markdown",
   "metadata": {},
   "source": [
    "**Save data to csv**"
   ]
  },
  {
   "cell_type": "code",
   "execution_count": null,
   "metadata": {},
   "outputs": [],
   "source": [
    "stem_tweets_df.to_excel('stem_tweets.xlsx',index=False)\n",
    "tweets.to_excel('tweets.xlsx',index=False)"
   ]
  },
  {
   "attachments": {},
   "cell_type": "markdown",
   "metadata": {},
   "source": [
    "## ***3.Read Files***"
   ]
  },
  {
   "attachments": {},
   "cell_type": "markdown",
   "metadata": {},
   "source": [
    "**Read files from csv**"
   ]
  },
  {
   "cell_type": "code",
   "execution_count": 2,
   "metadata": {},
   "outputs": [],
   "source": [
    "tweets = pd.read_excel('tweets.xlsx')\n",
    "stem_tweets_df = pd.read_excel('stem_tweets.xlsx')"
   ]
  },
  {
   "attachments": {},
   "cell_type": "markdown",
   "metadata": {},
   "source": [
    "**Define preprocessing functions**"
   ]
  },
  {
   "cell_type": "code",
   "execution_count": 3,
   "metadata": {},
   "outputs": [],
   "source": [
    "def lowercase_conversion(tweet):\n",
    "    return tweet.lower()"
   ]
  },
  {
   "cell_type": "code",
   "execution_count": 4,
   "metadata": {},
   "outputs": [],
   "source": [
    "def punctuation_removal(tweet):\n",
    "    words = tweet.split(' ')\n",
    "    removed_words = []\n",
    "\n",
    "    for word in words:\n",
    "        removed_words.append(''.join(filter(str.isalnum, word)))\n",
    "    return ' '.join(removed_words)"
   ]
  },
  {
   "cell_type": "code",
   "execution_count": 5,
   "metadata": {},
   "outputs": [],
   "source": [
    "from nltk.corpus import stopwords\n",
    "stopwords = stopwords.words('turkish')\n",
    "\n",
    "def stopword_removal(tweet):\n",
    "    words = tweet.lower().split(' ')\n",
    "    final_words = []\n",
    "\n",
    "    for word in words:\n",
    "        if word not in stopwords:\n",
    "            final_words.append(word)\n",
    "    \n",
    "    return ' '.join(final_words)"
   ]
  },
  {
   "attachments": {},
   "cell_type": "markdown",
   "metadata": {},
   "source": [
    "## ***4.Apply Preprocessing and Save 16 Dataset***"
   ]
  },
  {
   "cell_type": "code",
   "execution_count": 8,
   "metadata": {},
   "outputs": [],
   "source": [
    "def apply_preprocessing(p1, p2, p3, p4):\n",
    "    return_data = []\n",
    "    \n",
    "    if p3 == 1:\n",
    "        data = stem_tweets_df['Text'].values\n",
    "    else:\n",
    "        data = tweets['Text'].values\n",
    "\n",
    "    for tweet in data:\n",
    "        if p1 == 1: tweet = lowercase_conversion(tweet)\n",
    "        if p2 == 1: tweet = punctuation_removal(tweet)\n",
    "        if p4 == 1: tweet = stopword_removal(tweet)\n",
    "        return_data.append(tweet)\n",
    "    \n",
    "    temp_df = tweets\n",
    "    temp_df['Text'] = return_data\n",
    "    temp_df.to_excel(f\"dataset/{str(p1)}{str(p2)}{str(p3)}{str(p4)}.xlsx\", index=False)"
   ]
  },
  {
   "cell_type": "code",
   "execution_count": 9,
   "metadata": {},
   "outputs": [],
   "source": [
    "apply_preprocessing(0,0,0,0)\n",
    "apply_preprocessing(0,0,0,1)\n",
    "apply_preprocessing(0,0,1,0)\n",
    "apply_preprocessing(0,0,1,1)\n",
    "apply_preprocessing(0,1,0,0)\n",
    "apply_preprocessing(0,1,0,1)\n",
    "apply_preprocessing(0,1,1,0)\n",
    "apply_preprocessing(0,1,1,1)\n",
    "apply_preprocessing(1,0,0,0)\n",
    "apply_preprocessing(1,0,0,1)\n",
    "apply_preprocessing(1,0,1,0)\n",
    "apply_preprocessing(1,0,1,1)\n",
    "apply_preprocessing(1,1,0,0)\n",
    "apply_preprocessing(1,1,0,1)\n",
    "apply_preprocessing(1,1,1,0)\n",
    "apply_preprocessing(1,1,1,1)"
   ]
  }
 ],
 "metadata": {
  "kernelspec": {
   "display_name": "base",
   "language": "python",
   "name": "python3"
  },
  "language_info": {
   "codemirror_mode": {
    "name": "ipython",
    "version": 3
   },
   "file_extension": ".py",
   "mimetype": "text/x-python",
   "name": "python",
   "nbconvert_exporter": "python",
   "pygments_lexer": "ipython3",
   "version": "3.9.13"
  },
  "orig_nbformat": 4,
  "vscode": {
   "interpreter": {
    "hash": "33bea494317c8c22a4760028ceed23349c4667bf8f6d1305a13b8d31b6e7f27d"
   }
  }
 },
 "nbformat": 4,
 "nbformat_minor": 2
}
